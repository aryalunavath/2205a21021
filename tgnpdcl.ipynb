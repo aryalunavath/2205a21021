{
  "nbformat": 4,
  "nbformat_minor": 0,
  "metadata": {
    "colab": {
      "provenance": [],
      "authorship_tag": "ABX9TyO4bI8FrX/MnxWltS+AitBr",
      "include_colab_link": true
    },
    "kernelspec": {
      "name": "python3",
      "display_name": "Python 3"
    },
    "language_info": {
      "name": "python"
    }
  },
  "cells": [
    {
      "cell_type": "markdown",
      "metadata": {
        "id": "view-in-github",
        "colab_type": "text"
      },
      "source": [
        "<a href=\"https://colab.research.google.com/github/aryalunavath/2205a21021/blob/main/tgnpdcl.ipynb\" target=\"_parent\"><img src=\"https://colab.research.google.com/assets/colab-badge.svg\" alt=\"Open In Colab\"/></a>"
      ]
    },
    {
      "cell_type": "code",
      "execution_count": 26,
      "metadata": {
        "id": "2hSl2nXKtkHR"
      },
      "outputs": [],
      "source": [
        "def res(pu,cu):\n",
        "  u=cu-pu\n",
        "  ed=0.06*u\n",
        "  if(u<=100):\n",
        "    if(u<=50):\n",
        "      ec=1.95*u\n",
        "      fc=10\n",
        "      cc=40\n",
        "    else:\n",
        "      ec=3.1*u\n",
        "      fc=10\n",
        "      cc=70\n",
        "    if(u>100 and u<=200):\n",
        "     ec=100*3.4+(u-100)*4.8\n",
        "     fc=10\n",
        "     cc=90\n",
        "    if(u>200):\n",
        "      print(\"application not supported\")\n",
        "    if(u==0):\n",
        "      ec=50\n",
        "      fc=20\n",
        "      cc=40\n",
        "    bill_amount=ec+fc+cc+ed\n",
        "    return ec,fc,cc,ed,bill_amount\n",
        "\n",
        "\n"
      ]
    },
    {
      "cell_type": "code",
      "source": [
        "def com(pu,cu):\n",
        "  u=cu-pu\n",
        "  ed=0.06*u\n",
        "  if(u<=50):\n",
        "    ec=7*u\n",
        "    fc=60\n",
        "    cc=50\n",
        "  else:\n",
        "    print(\"application is nit support\")\n",
        "  if(u==0):\n",
        "    ec=65\n",
        "    fc=60\n",
        "    cc=50\n",
        "    bill_amount=ec+fc+cc+ed\n",
        "    return ec,fc,cc,ed,bill_amount\n"
      ],
      "metadata": {
        "id": "rJX32kzhvLCr"
      },
      "execution_count": 25,
      "outputs": []
    },
    {
      "cell_type": "code",
      "source": [
        "def adv(pu,cu):\n",
        "  units=cu-pu\n",
        "  ed=0.06*units\n",
        "  fc=70\n",
        "  cc=160\n",
        "  bill=ec+cc+fc+ed\n",
        "  if(units==0):\n",
        "    ec=300\n",
        "    fc=70\n",
        "    cc=160\n",
        "    bill=ec+fc+cc\n",
        "    return bill,ec,fc,cc\n",
        "\n",
        "\n",
        "\n",
        "\n"
      ],
      "metadata": {
        "id": "37UchflIyGB6"
      },
      "execution_count": 24,
      "outputs": []
    }
  ]
}