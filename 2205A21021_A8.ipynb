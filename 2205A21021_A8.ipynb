{
  "nbformat": 4,
  "nbformat_minor": 0,
  "metadata": {
    "colab": {
      "provenance": [],
      "authorship_tag": "ABX9TyNqLdxP3QqMA+bGaRTYtFj4",
      "include_colab_link": true
    },
    "kernelspec": {
      "name": "python3",
      "display_name": "Python 3"
    },
    "language_info": {
      "name": "python"
    }
  },
  "cells": [
    {
      "cell_type": "markdown",
      "metadata": {
        "id": "view-in-github",
        "colab_type": "text"
      },
      "source": [
        "<a href=\"https://colab.research.google.com/github/aryalunavath/2205a21021/blob/main/2205A21021_A8.ipynb\" target=\"_parent\"><img src=\"https://colab.research.google.com/assets/colab-badge.svg\" alt=\"Open In Colab\"/></a>"
      ]
    },
    {
      "cell_type": "code",
      "source": [
        "Element={\"Rakesh\",\"rajkumar\",\"sonu\",\"srihari\",500,1000,2000}\n",
        "print(Element)"
      ],
      "metadata": {
        "colab": {
          "base_uri": "https://localhost:8080/"
        },
        "id": "AFmoV2UHFl-M",
        "outputId": "8b04c67d-a965-4ef4-86f6-b94841cdca27"
      },
      "execution_count": 1,
      "outputs": [
        {
          "output_type": "stream",
          "name": "stdout",
          "text": [
            "{2000, 'srihari', 'rajkumar', 'Rakesh', 500, 1000, 'sonu'}\n"
          ]
        }
      ]
    },
    {
      "cell_type": "code",
      "source": [
        "Element={\"Rakesh\",\"rajkumar\",\"sonu\",\"srihari\",500,1000,1000,500}\n",
        "print(Element)"
      ],
      "metadata": {
        "colab": {
          "base_uri": "https://localhost:8080/"
        },
        "id": "s9tq9h81Fpr0",
        "outputId": "82a2cfc1-f0fb-4d59-d71b-aea077b4d639"
      },
      "execution_count": 2,
      "outputs": [
        {
          "output_type": "stream",
          "name": "stdout",
          "text": [
            "{'srihari', 'Rakesh', 'rajkumar', 500, 1000, 'sonu'}\n"
          ]
        }
      ]
    },
    {
      "cell_type": "code",
      "source": [
        "bool_values={True,False,1,0}\n",
        "print(bool_values)\n",
        "print(len(bool_values))"
      ],
      "metadata": {
        "colab": {
          "base_uri": "https://localhost:8080/"
        },
        "id": "bKDit1NGFvTX",
        "outputId": "b805b5db-e7e0-4d45-984f-3564ca16ffb6"
      },
      "execution_count": 3,
      "outputs": [
        {
          "output_type": "stream",
          "name": "stdout",
          "text": [
            "{False, True}\n",
            "2\n"
          ]
        }
      ]
    },
    {
      "cell_type": "code",
      "source": [
        "a={\"Rakesh\",\"sonu\"}\n",
        "b={1,2,3,4,5,}\n",
        "c={True,False}\n",
        "print(a)\n",
        "print(b)\n",
        "print(c)\n",
        "print(len(a))\n",
        "print(len(b))\n",
        "print(len(c))"
      ],
      "metadata": {
        "colab": {
          "base_uri": "https://localhost:8080/"
        },
        "id": "7lU_OsaYFy9R",
        "outputId": "6ae1bce1-cee6-4aeb-9abf-067b719c94bd"
      },
      "execution_count": 4,
      "outputs": [
        {
          "output_type": "stream",
          "name": "stdout",
          "text": [
            "{'Rakesh', 'sonu'}\n",
            "{1, 2, 3, 4, 5}\n",
            "{False, True}\n",
            "2\n",
            "5\n",
            "2\n"
          ]
        }
      ]
    },
    {
      "cell_type": "code",
      "source": [
        "Element={\"Rakesh\",\"rajkumar\",\"sonu\",\"srihari\",500,1000,1000,500}\n",
        "print(Element)\n",
        "print(type(Element))"
      ],
      "metadata": {
        "colab": {
          "base_uri": "https://localhost:8080/"
        },
        "id": "_-tNM7tjF1xh",
        "outputId": "5a72755d-97b5-4ed3-f053-83fd5a3be306"
      },
      "execution_count": 5,
      "outputs": [
        {
          "output_type": "stream",
          "name": "stdout",
          "text": [
            "{'srihari', 'Rakesh', 'rajkumar', 500, 1000, 'sonu'}\n",
            "<class 'set'>\n"
          ]
        }
      ]
    },
    {
      "cell_type": "code",
      "source": [
        "Element=set((\"Rakesh\",\"rajkumar\",\"sonu\",\"srihari\",500,1000,1000,500))\n",
        "print(Element)\n",
        "print(type(Element))"
      ],
      "metadata": {
        "colab": {
          "base_uri": "https://localhost:8080/"
        },
        "id": "dVAxD3yNF5bW",
        "outputId": "6812d887-53a7-49d2-fe34-7abaeb72ddf4"
      },
      "execution_count": 6,
      "outputs": [
        {
          "output_type": "stream",
          "name": "stdout",
          "text": [
            "{1000, 'sonu', 'srihari', 'rajkumar', 'Rakesh', 500}\n",
            "<class 'set'>\n"
          ]
        }
      ]
    },
    {
      "cell_type": "code",
      "source": [
        "Element=set((\"Rakesh\",\"rajkumar\",\"sonu\",\"srihari\",500,1000,1000,500))\n",
        "for value in Element:\n",
        "  print(value)"
      ],
      "metadata": {
        "colab": {
          "base_uri": "https://localhost:8080/"
        },
        "id": "tSNOp_PcF8vq",
        "outputId": "1a117658-6498-42c3-f5a2-1a56f72cdbcd"
      },
      "execution_count": 7,
      "outputs": [
        {
          "output_type": "stream",
          "name": "stdout",
          "text": [
            "1000\n",
            "sonu\n",
            "srihari\n",
            "rajkumar\n",
            "Rakesh\n",
            "500\n"
          ]
        }
      ]
    },
    {
      "cell_type": "code",
      "source": [
        "Element=set((\"Rakesh\",\"rajkumar\",\"sonu\",\"srihari\",500,1000,1000,500))\n",
        "print(\"Rakesh\" in Element)\n",
        "print(\"rajkumar\" not in Element)"
      ],
      "metadata": {
        "colab": {
          "base_uri": "https://localhost:8080/"
        },
        "id": "h52OwhfNGAPa",
        "outputId": "b1abe078-a52c-468b-a500-a27fe24fb73d"
      },
      "execution_count": 8,
      "outputs": [
        {
          "output_type": "stream",
          "name": "stdout",
          "text": [
            "True\n",
            "False\n"
          ]
        }
      ]
    },
    {
      "cell_type": "code",
      "source": [
        "Element={\"Rakesh\",\"rajkumar\",\"sonu\",\"srihari\"}\n",
        "print(Element)\n",
        "Element.add(\"das\")\n",
        "print(Element)"
      ],
      "metadata": {
        "colab": {
          "base_uri": "https://localhost:8080/"
        },
        "id": "Fkaw0y8gGDt4",
        "outputId": "012dd846-eecf-4cae-e970-e451364df654"
      },
      "execution_count": 9,
      "outputs": [
        {
          "output_type": "stream",
          "name": "stdout",
          "text": [
            "{'srihari', 'Rakesh', 'rajkumar', 'sonu'}\n",
            "{'sonu', 'srihari', 'Rakesh', 'rajkumar', 'das'}\n"
          ]
        }
      ]
    },
    {
      "cell_type": "code",
      "source": [
        "Element={\"Rakesh\",\"rajkumar\",\"sonu\",\"srihari\"}\n",
        "point={\"mango\",\"apple\",\"banana\"}\n",
        "Element.update(point)\n",
        "print(Element)"
      ],
      "metadata": {
        "colab": {
          "base_uri": "https://localhost:8080/"
        },
        "id": "Zb93VAS8GGfo",
        "outputId": "a3ef68a9-a4dd-4af2-c88e-45fcabb4adb7"
      },
      "execution_count": 10,
      "outputs": [
        {
          "output_type": "stream",
          "name": "stdout",
          "text": [
            "{'srihari', 'Rakesh', 'rajkumar', 'banana', 'apple', 'mango', 'sonu'}\n"
          ]
        }
      ]
    },
    {
      "cell_type": "code",
      "source": [
        "Element={\"Rakesh\",\"rajkumar\",\"sonu\",\"srihari\"}\n",
        "Element.remove(\"rajkumar\")\n",
        "print(Element)"
      ],
      "metadata": {
        "colab": {
          "base_uri": "https://localhost:8080/"
        },
        "id": "IzS-ErFfGKQF",
        "outputId": "e6ad11ac-03d2-4d3e-afb8-e6e3e32017a2"
      },
      "execution_count": 11,
      "outputs": [
        {
          "output_type": "stream",
          "name": "stdout",
          "text": [
            "{'srihari', 'Rakesh', 'sonu'}\n"
          ]
        }
      ]
    },
    {
      "cell_type": "code",
      "source": [
        "Element={\"Rakesh\",\"rajkumar\",\"sonu\",\"srihari\"}\n",
        "Element.discard(\"rajkumar\")\n",
        "print(Element)"
      ],
      "metadata": {
        "colab": {
          "base_uri": "https://localhost:8080/"
        },
        "id": "3QmFg7YlGOMg",
        "outputId": "209d8ff8-c896-4b84-bf6d-638ec0414392"
      },
      "execution_count": 12,
      "outputs": [
        {
          "output_type": "stream",
          "name": "stdout",
          "text": [
            "{'srihari', 'Rakesh', 'sonu'}\n"
          ]
        }
      ]
    },
    {
      "cell_type": "code",
      "source": [
        "list=['rakesh','2003']\n",
        "print(list)\n",
        "del list[1]\n",
        "print(list)"
      ],
      "metadata": {
        "colab": {
          "base_uri": "https://localhost:8080/"
        },
        "id": "vXjSu9fUGRa-",
        "outputId": "eb269b03-462b-4434-8bc2-095fc3050f10"
      },
      "execution_count": 13,
      "outputs": [
        {
          "output_type": "stream",
          "name": "stdout",
          "text": [
            "['rakesh', '2003']\n",
            "['rakesh']\n"
          ]
        }
      ]
    },
    {
      "cell_type": "code",
      "source": [
        "name=[\"Rakesh\",'manji','suvali']\n",
        "DOB=[2003,2004,2005]\n",
        "print(\"name with maximum character\",max(name))\n",
        "print(\"name with minimum character\",min(name))\n",
        "print(\"DOB with maximum character\",max(DOB))\n",
        "print(\"DOB with minimum character\",min(DOB))"
      ],
      "metadata": {
        "colab": {
          "base_uri": "https://localhost:8080/"
        },
        "id": "wg5ut1tCGU69",
        "outputId": "d52c8e6f-4587-40b3-ac11-d60c9141b33e"
      },
      "execution_count": 14,
      "outputs": [
        {
          "output_type": "stream",
          "name": "stdout",
          "text": [
            "name with maximum character suvali\n",
            "name with minimum character Rakesh\n",
            "DOB with maximum character 2005\n",
            "DOB with minimum character 2003\n"
          ]
        }
      ]
    },
    {
      "cell_type": "code",
      "source": [
        "name=['rakesh','suvalli',\"manji\"]\n",
        "print(\"member: \",name)\n",
        "name.pop()\n",
        "print(\"member: \",name)\n",
        "name.pop(1)\n",
        "print(\"member: \",name)"
      ],
      "metadata": {
        "colab": {
          "base_uri": "https://localhost:8080/"
        },
        "id": "XeXRK8KGGX9o",
        "outputId": "f46ca94d-f733-45d3-f658-450a9893d151"
      },
      "execution_count": 15,
      "outputs": [
        {
          "output_type": "stream",
          "name": "stdout",
          "text": [
            "member:  ['rakesh', 'suvalli', 'manji']\n",
            "member:  ['rakesh', 'suvalli']\n",
            "member:  ['rakesh']\n"
          ]
        }
      ]
    },
    {
      "cell_type": "code",
      "source": [
        "tuple=(\"rakesh\",\"vikram\",\"ajay\",\"ambadas\")\n",
        "print(tuple)\n",
        "print(tuple[0])\n",
        "print(tuple[0:2])\n",
        "print(tuple[0:])\n",
        "print(tuple[::-1])\n",
        "print(tuple[2:0:-1])"
      ],
      "metadata": {
        "colab": {
          "base_uri": "https://localhost:8080/"
        },
        "id": "xmW09XBzGbRC",
        "outputId": "f393ca8d-fa58-4c4e-a015-6068d49bfa3e"
      },
      "execution_count": 16,
      "outputs": [
        {
          "output_type": "stream",
          "name": "stdout",
          "text": [
            "('rakesh', 'vikram', 'ajay', 'ambadas')\n",
            "rakesh\n",
            "('rakesh', 'vikram')\n",
            "('rakesh', 'vikram', 'ajay', 'ambadas')\n",
            "('ambadas', 'ajay', 'vikram', 'rakesh')\n",
            "('ajay', 'vikram')\n"
          ]
        }
      ]
    },
    {
      "cell_type": "code",
      "source": [
        "tuple=(\"rakesh\",\"vikram\",\"ajay\",\"ambadas\")\n",
        "tg=(200,2004,2002)\n",
        "print(tuple*2)\n",
        "print(tuple+tg)\n",
        "list=[\"pavan\",\"phanindra\",\"rahul\"]\n",
        "print(list)\n",
        "list[0]=\"rajkumar\"\n",
        "print(list)"
      ],
      "metadata": {
        "colab": {
          "base_uri": "https://localhost:8080/"
        },
        "id": "k5tzU28RGelu",
        "outputId": "ee131856-597f-426d-f91e-da0b0caf2f60"
      },
      "execution_count": 17,
      "outputs": [
        {
          "output_type": "stream",
          "name": "stdout",
          "text": [
            "('rakesh', 'vikram', 'ajay', 'ambadas', 'rakesh', 'vikram', 'ajay', 'ambadas')\n",
            "('rakesh', 'vikram', 'ajay', 'ambadas', 200, 2004, 2002)\n",
            "['pavan', 'phanindra', 'rahul']\n",
            "['rajkumar', 'phanindra', 'rahul']\n"
          ]
        }
      ]
    },
    {
      "cell_type": "code",
      "source": [
        "dict={}\n",
        "print(dict)\n",
        "dict[\"one\"]=\"my opinon is my own\"\n",
        "print(dict)\n",
        "dict[\"2\"]=\"my self\"\n",
        "print(dict)\n",
        "print(dict.keys())\n",
        "print(dict.values())"
      ],
      "metadata": {
        "colab": {
          "base_uri": "https://localhost:8080/"
        },
        "id": "7rNxTbkzGg_2",
        "outputId": "49fec243-2c12-4990-9c40-629d991902cb"
      },
      "execution_count": 18,
      "outputs": [
        {
          "output_type": "stream",
          "name": "stdout",
          "text": [
            "{}\n",
            "{'one': 'my opinon is my own'}\n",
            "{'one': 'my opinon is my own', '2': 'my self'}\n",
            "dict_keys(['one', '2'])\n",
            "dict_values(['my opinon is my own', 'my self'])\n"
          ]
        }
      ]
    },
    {
      "cell_type": "code",
      "source": [
        "base={\"name\":\"rakesh\",\"marks\":848}\n",
        "print(base)\n",
        "print(base[\"name\"])\n",
        "print(base[\"marks\"])\n",
        "base[\"marks\"]=900\n",
        "print(base)\n",
        "base[\"name\"]=\"sonu\"\n",
        "print(base)\n",
        "print(base.keys())\n",
        "print(base.values())"
      ],
      "metadata": {
        "colab": {
          "base_uri": "https://localhost:8080/"
        },
        "id": "sUMK1oFvGkI9",
        "outputId": "907aec7f-4605-4678-d3f7-e918d0ee0b38"
      },
      "execution_count": 19,
      "outputs": [
        {
          "output_type": "stream",
          "name": "stdout",
          "text": [
            "{'name': 'rakesh', 'marks': 848}\n",
            "rakesh\n",
            "848\n",
            "{'name': 'rakesh', 'marks': 900}\n",
            "{'name': 'sonu', 'marks': 900}\n",
            "dict_keys(['name', 'marks'])\n",
            "dict_values(['sonu', 900])\n"
          ]
        }
      ]
    },
    {
      "cell_type": "code",
      "source": [],
      "metadata": {
        "id": "Cz51GY2bGnCN"
      },
      "execution_count": null,
      "outputs": []
    }
  ]
}